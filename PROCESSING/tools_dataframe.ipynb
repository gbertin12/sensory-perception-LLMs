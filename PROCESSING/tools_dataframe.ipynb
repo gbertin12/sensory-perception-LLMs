{
 "cells": [
  {
   "cell_type": "code",
   "execution_count": 9,
   "metadata": {},
   "outputs": [],
   "source": [
    "# Add noew Extepected answer in Expected answer list\n",
    "import pandas as pd\n",
    "\n",
    "#upload the json file\n",
    "data_path = '../DATA/origin.json'\n",
    "df = pd.read_json(data_path)\n",
    "\n",
    "#add new expected answer csv file\n",
    "path = '../DATA/responses/responses_cam.csv'\n",
    "new_df = pd.read_csv(path)\n",
    "\n",
    "list_new_expected_answer = new_df['Answer'].tolist()\n",
    "\n",
    "list_old_expected_answer = df['Expected Answer'].tolist()\n",
    "\n",
    "new_list = []\n",
    "\n",
    "for i in range(len(list_old_expected_answer)):\n",
    "\titem = [list_old_expected_answer[i], list_new_expected_answer[i]]\n",
    "\tnew_list.append(item)\n",
    "\n",
    "df['Expected Answer'] = new_list\n",
    "\n",
    "df.to_json(\"../DATA/questions_clean.json\", orient='records')\n"
   ]
  },
  {
   "cell_type": "code",
   "execution_count": 11,
   "metadata": {},
   "outputs": [],
   "source": [
    "# Add noew Extepected answer in Expected answer list\n",
    "import pandas as pd\n",
    "\n",
    "#upload the json file\n",
    "data_path = '../DATA/questions_clean.json'\n",
    "df = pd.read_json(data_path)\n",
    "\n",
    "#add new expected answer csv file\n",
    "path = '../DATA/responses/responses_julien.csv'\n",
    "new_df = pd.read_csv(path)\n",
    "\n",
    "list_new_expected_answer = new_df['Answer'].tolist()\n",
    "\n",
    "list_old_expected_answer = df['Expected Answer'].tolist()\n",
    "\n",
    "list_old_expected_answer \n",
    "\n",
    "#add element to the list\n",
    "\n",
    "for i in range(len(list_old_expected_answer)):\n",
    "\tlist_old_expected_answer[i].append(list_new_expected_answer[i])\n",
    "\n",
    "df['Expected Answer'] = list_old_expected_answer\n",
    "\n",
    "df.to_json(\"../DATA/questions_clean.json\", orient='records')\n"
   ]
  },
  {
   "cell_type": "code",
   "execution_count": null,
   "metadata": {},
   "outputs": [],
   "source": []
  }
 ],
 "metadata": {
  "kernelspec": {
   "display_name": "Outils_Analyse_web",
   "language": "python",
   "name": "python3"
  },
  "language_info": {
   "codemirror_mode": {
    "name": "ipython",
    "version": 3
   },
   "file_extension": ".py",
   "mimetype": "text/x-python",
   "name": "python",
   "nbconvert_exporter": "python",
   "pygments_lexer": "ipython3",
   "version": "3.8.18"
  }
 },
 "nbformat": 4,
 "nbformat_minor": 2
}
